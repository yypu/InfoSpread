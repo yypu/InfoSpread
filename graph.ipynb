{
 "cells": [
  {
   "cell_type": "code",
   "execution_count": 1,
   "metadata": {},
   "outputs": [],
   "source": [
    "import networkx as nx"
   ]
  },
  {
   "cell_type": "code",
   "execution_count": 3,
   "metadata": {},
   "outputs": [],
   "source": [
    "n=4000"
   ]
  },
  {
   "cell_type": "code",
   "execution_count": 4,
   "metadata": {},
   "outputs": [],
   "source": [
    "graph = nx.watts_strogatz_graph(n, k = 57, p=0.5)\n",
    "\n",
    "# Parameters:\t\n",
    "# n : int\n",
    "#     Number of nodes\n",
    "# m : int\n",
    "\n",
    "#     Number of edges to attach from a new node to existing nodes\n",
    "\n",
    "# seed : int, optional\n",
    "\n",
    "#     Seed for random number generator (default=None).\n",
    "\n",
    "# Returns:\n",
    "\n",
    "#     G : Graph"
   ]
  },
  {
   "cell_type": "code",
   "execution_count": 5,
   "metadata": {},
   "outputs": [
    {
     "data": {
      "text/plain": [
       "<networkx.classes.graph.Graph at 0x118bc5828>"
      ]
     },
     "execution_count": 5,
     "metadata": {},
     "output_type": "execute_result"
    }
   ],
   "source": [
    "graph"
   ]
  },
  {
   "cell_type": "code",
   "execution_count": null,
   "metadata": {},
   "outputs": [],
   "source": [
    "graph = nx.barabasi_albert_graph(n, m = 6)\n",
    "\n",
    "Parameters:\t\n",
    "\n",
    "    n (int) – The number of nodes\n",
    "    k (int) – Each node is joined with its k nearest neighbors in a ring topology.\n",
    "    p (float) – The probability of rewiring each edge\n",
    "    seed (int, optional) – Seed for random number generator (default=None)\n"
   ]
  }
 ],
 "metadata": {
  "kernelspec": {
   "display_name": "Python 3",
   "language": "python",
   "name": "python3"
  },
  "language_info": {
   "codemirror_mode": {
    "name": "ipython",
    "version": 3
   },
   "file_extension": ".py",
   "mimetype": "text/x-python",
   "name": "python",
   "nbconvert_exporter": "python",
   "pygments_lexer": "ipython3",
   "version": "3.6.5"
  }
 },
 "nbformat": 4,
 "nbformat_minor": 2
}
