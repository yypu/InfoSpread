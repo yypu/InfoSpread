{
 "cells": [
  {
   "cell_type": "code",
   "execution_count": 99,
   "metadata": {},
   "outputs": [],
   "source": [
    "import networkx as nx\n",
    "import matplotlib as plt\n",
    "# import pygraphviz as pv"
   ]
  },
  {
   "cell_type": "code",
   "execution_count": 10,
   "metadata": {},
   "outputs": [],
   "source": [
    "g_ws = nt.watts_strogatz_graph(n = 4000, k = 57,p=0.5)\n",
    "g_bs = nt.barabasi_albert_graph(n = 4000, m = 6)\n"
   ]
  },
  {
   "cell_type": "code",
   "execution_count": 19,
   "metadata": {},
   "outputs": [
    {
     "data": {
      "text/plain": [
       "dict_keys(['node_dict_factory', 'adjlist_dict_factory', 'edge_attr_dict_factory', 'graph', 'node', 'adj', 'edge'])"
      ]
     },
     "execution_count": 19,
     "metadata": {},
     "output_type": "execute_result"
    }
   ],
   "source": [
    "g_ws.__dict__.keys()"
   ]
  },
  {
   "cell_type": "code",
   "execution_count": 29,
   "metadata": {
    "collapsed": true
   },
   "outputs": [
    {
     "data": {
      "text/plain": [
       "[(0, 1),\n",
       " (0, 3999),\n",
       " (0, 2),\n",
       " (0, 3997),\n",
       " (0, 4),\n",
       " (0, 3996),\n",
       " (0, 5),\n",
       " (0, 7),\n",
       " (0, 3992),\n",
       " (0, 9),\n",
       " (0, 3991),\n",
       " (0, 10),\n",
       " (0, 3990),\n",
       " (0, 11),\n",
       " (0, 13),\n",
       " (0, 3987),\n",
       " (0, 14),\n",
       " (0, 3986),\n",
       " (0, 15),\n",
       " (0, 3985),\n",
       " (0, 16),\n",
       " (0, 17),\n",
       " (0, 3983),\n",
       " (0, 3981),\n",
       " (0, 21),\n",
       " (0, 22),\n",
       " (0, 3978),\n",
       " (0, 23),\n",
       " (0, 3977),\n",
       " (0, 24),\n",
       " (0, 3975),\n",
       " (0, 27),\n",
       " (0, 3972),\n",
       " (0, 3860),\n",
       " (0, 731),\n",
       " (0, 1053),\n",
       " (0, 2383),\n",
       " (0, 3784),\n",
       " (0, 3212),\n",
       " (0, 3116),\n",
       " (0, 228),\n",
       " (0, 3262),\n",
       " (0, 1137),\n",
       " (0, 2002),\n",
       " (0, 818),\n",
       " (0, 1651),\n",
       " (0, 724),\n",
       " (0, 481),\n",
       " (0, 2074),\n",
       " (0, 1748),\n",
       " (0, 2642),\n",
       " (1, 2),\n",
       " (1, 3),\n",
       " (1, 3997),\n",
       " (1, 6),\n",
       " (1, 3993),\n",
       " (1, 3991),\n",
       " (1, 3990),\n",
       " (1, 3988),\n",
       " (1, 15),\n",
       " (1, 3987),\n",
       " (1, 17),\n",
       " (1, 3985),\n",
       " (1, 19),\n",
       " (1, 20),\n",
       " (1, 21),\n",
       " (1, 3981),\n",
       " (1, 23),\n",
       " (1, 24),\n",
       " (1, 3977),\n",
       " (1, 26),\n",
       " (1, 29),\n",
       " (1, 3973),\n",
       " (1, 2937),\n",
       " (1, 2478),\n",
       " (1, 1047),\n",
       " (1, 3289),\n",
       " (1, 2104),\n",
       " (1, 3593),\n",
       " (1, 475),\n",
       " (1, 463),\n",
       " (1, 3767),\n",
       " (1, 2675),\n",
       " (1, 529),\n",
       " (1, 3559),\n",
       " (1, 3811),\n",
       " (1, 806),\n",
       " (1, 2228),\n",
       " (1, 3051),\n",
       " (1, 187),\n",
       " (1, 2725),\n",
       " (1, 775),\n",
       " (1, 1089),\n",
       " (1, 359),\n",
       " (1, 896),\n",
       " (1, 1198),\n",
       " (1, 2819),\n",
       " (1, 2692),\n",
       " (1, 2145),\n",
       " (1, 3209),\n",
       " (1, 1602),\n",
       " (1, 2062),\n",
       " (1, 2982),\n",
       " (2, 3),\n",
       " (2, 5),\n",
       " (2, 6),\n",
       " (2, 3998),\n",
       " (2, 3997),\n",
       " (2, 8),\n",
       " (2, 3996),\n",
       " (2, 9),\n",
       " (2, 3995),\n",
       " (2, 10),\n",
       " (2, 13),\n",
       " (2, 15),\n",
       " (2, 3989),\n",
       " (2, 16),\n",
       " (2, 3988),\n",
       " (2, 17),\n",
       " (2, 19),\n",
       " (2, 20),\n",
       " (2, 3984),\n",
       " (2, 21),\n",
       " (2, 22),\n",
       " (2, 3982),\n",
       " (2, 23),\n",
       " (2, 24),\n",
       " (2, 25),\n",
       " (2, 3979),\n",
       " (2, 27),\n",
       " (2, 3977),\n",
       " (2, 3975),\n",
       " (2, 30),\n",
       " (2, 3974),\n",
       " (2, 2958),\n",
       " (2, 1880),\n",
       " (2, 2978),\n",
       " (2, 1513),\n",
       " (2, 246),\n",
       " (2, 3317),\n",
       " (2, 847),\n",
       " (2, 1724),\n",
       " (2, 2912),\n",
       " (2, 3020),\n",
       " (2, 257),\n",
       " (2, 3925),\n",
       " (2, 3638),\n",
       " (2, 2900),\n",
       " (2, 3141),\n",
       " (2, 1027),\n",
       " (2, 1373),\n",
       " (2, 2657),\n",
       " (2, 3938),\n",
       " (2, 310),\n",
       " (3, 4),\n",
       " (3, 5),\n",
       " (3, 7),\n",
       " (3, 3999),\n",
       " (3, 9),\n",
       " (3, 3997),\n",
       " (3, 10),\n",
       " (3, 3996),\n",
       " (3, 11),\n",
       " (3, 3995),\n",
       " (3, 12),\n",
       " (3, 3993),\n",
       " (3, 14),\n",
       " (3, 3992),\n",
       " (3, 15),\n",
       " (3, 16),\n",
       " (3, 3990),\n",
       " (3, 18),\n",
       " (3, 3988),\n",
       " (3, 19),\n",
       " (3, 3987),\n",
       " (3, 20),\n",
       " (3, 3986),\n",
       " (3, 3985),\n",
       " (3, 3984),\n",
       " (3, 23),\n",
       " (3, 24),\n",
       " (3, 3982),\n",
       " (3, 25),\n",
       " (3, 26),\n",
       " (3, 3980),\n",
       " (3, 3979),\n",
       " (3, 3977),\n",
       " (3, 30),\n",
       " (3, 3976),\n",
       " (3, 3296),\n",
       " (3, 3378),\n",
       " (3, 660),\n",
       " (3, 1191),\n",
       " (3, 3702),\n",
       " (3, 701),\n",
       " (3, 1283),\n",
       " (3, 706),\n",
       " (3, 814),\n",
       " (3, 1710),\n",
       " (3, 1773),\n",
       " (3, 2254),\n",
       " (3, 1931),\n",
       " (3, 363),\n",
       " (3, 2096),\n",
       " (3, 3013),\n",
       " (3, 3733),\n",
       " (3, 2425),\n",
       " (3, 961),\n",
       " (3, 894),\n",
       " (3, 829),\n",
       " (3, 1473),\n",
       " (3, 2938),\n",
       " (3, 2725),\n",
       " (3, 3597),\n",
       " (3, 428),\n",
       " (4, 8),\n",
       " (4, 3999),\n",
       " (4, 10),\n",
       " (4, 11),\n",
       " (4, 3997),\n",
       " (4, 12),\n",
       " (4, 3996),\n",
       " (4, 13),\n",
       " (4, 3995),\n",
       " (4, 17),\n",
       " (4, 3990),\n",
       " (4, 19),\n",
       " (4, 3989),\n",
       " (4, 3987),\n",
       " (4, 3986),\n",
       " (4, 3985),\n",
       " (4, 3984),\n",
       " (4, 25),\n",
       " (4, 26),\n",
       " (4, 3982),\n",
       " (4, 27),\n",
       " (4, 29),\n",
       " (4, 30),\n",
       " (4, 3978),\n",
       " (4, 3977),\n",
       " (4, 32),\n",
       " (4, 105),\n",
       " (4, 1639),\n",
       " (4, 1947),\n",
       " (4, 781),\n",
       " (4, 3861),\n",
       " (4, 215),\n",
       " (4, 1569),\n",
       " (4, 3736),\n",
       " (4, 1101),\n",
       " (4, 901),\n",
       " (4, 3192),\n",
       " (4, 564),\n",
       " (4, 3121),\n",
       " (4, 1331),\n",
       " (4, 2692),\n",
       " (4, 3852),\n",
       " (4, 356),\n",
       " (4, 3623),\n",
       " (4, 1591),\n",
       " (4, 3791),\n",
       " (4, 2348),\n",
       " (4, 2230),\n",
       " (4, 563),\n",
       " (4, 1338),\n",
       " (4, 217),\n",
       " (5, 7),\n",
       " (5, 9),\n",
       " (5, 11),\n",
       " (5, 3999),\n",
       " (5, 3998),\n",
       " (5, 3997),\n",
       " (5, 3996),\n",
       " (5, 16),\n",
       " (5, 17),\n",
       " (5, 18),\n",
       " (5, 3992),\n",
       " (5, 3990),\n",
       " (5, 21),\n",
       " (5, 22),\n",
       " (5, 3988),\n",
       " (5, 23),\n",
       " (5, 24),\n",
       " (5, 25),\n",
       " (5, 3985),\n",
       " (5, 3984),\n",
       " (5, 27),\n",
       " (5, 3983),\n",
       " (5, 28),\n",
       " (5, 29),\n",
       " (5, 3981),\n",
       " (5, 3979),\n",
       " (5, 32),\n",
       " (5, 462),\n",
       " (5, 2549),\n",
       " (5, 3266),\n",
       " (5, 766),\n",
       " (5, 1805),\n",
       " (5, 522),\n",
       " (5, 1661),\n",
       " (5, 3793),\n",
       " (5, 822),\n",
       " (5, 1383),\n",
       " (5, 3946),\n",
       " (5, 3148),\n",
       " (5, 3319),\n",
       " (5, 1045),\n",
       " (5, 2786),\n",
       " (5, 200),\n",
       " (5, 2343),\n",
       " (5, 1463),\n",
       " (5, 1034),\n",
       " (5, 1161),\n",
       " (5, 1266),\n",
       " (5, 2082),\n",
       " (5, 3952),\n",
       " (5, 944),\n",
       " (5, 2746),\n",
       " (5, 1562),\n",
       " (5, 3668),\n",
       " (6, 8),\n",
       " (6, 9),\n",
       " (6, 10),\n",
       " (6, 11),\n",
       " (6, 12),\n",
       " (6, 13),\n",
       " (6, 3996),\n",
       " (6, 17),\n",
       " (6, 3995),\n",
       " (6, 3992),\n",
       " (6, 21),\n",
       " (6, 22),\n",
       " (6, 3990),\n",
       " (6, 23),\n",
       " (6, 25),\n",
       " (6, 26),\n",
       " (6, 3986),\n",
       " (6, 29),\n",
       " (6, 3983),\n",
       " (6, 3982),\n",
       " (6, 3981),\n",
       " (6, 32),\n",
       " (6, 3980),\n",
       " (6, 34),\n",
       " (6, 1007),\n",
       " (6, 2505),\n",
       " (6, 888),\n",
       " (6, 2431),\n",
       " (6, 344),\n",
       " (6, 3953),\n",
       " (6, 2604),\n",
       " (6, 3524),\n",
       " (6, 895),\n",
       " (6, 1970),\n",
       " (6, 3795),\n",
       " (6, 670),\n",
       " (6, 3771),\n",
       " (6, 87),\n",
       " (6, 1260),\n",
       " (6, 1389),\n",
       " (6, 988),\n",
       " (6, 2821),\n",
       " (6, 1984),\n",
       " (6, 1700),\n",
       " (6, 3583),\n",
       " (6, 2153),\n",
       " (6, 2606),\n",
       " (6, 2099),\n",
       " (6, 791),\n",
       " (6, 86),\n",
       " (6, 588),\n",
       " (6, 1775),\n",
       " (6, 1854),\n",
       " (6, 3417),\n",
       " (6, 1230),\n",
       " (6, 1465),\n",
       " (6, 1567),\n",
       " (6, 1764),\n",
       " (6, 3832),\n",
       " (7, 9),\n",
       " (7, 12),\n",
       " (7, 14),\n",
       " (7, 3998),\n",
       " (7, 17),\n",
       " (7, 18),\n",
       " (7, 19),\n",
       " (7, 3995),\n",
       " (7, 20),\n",
       " (7, 3994),\n",
       " (7, 21),\n",
       " (7, 3993),\n",
       " (7, 3991),\n",
       " (7, 24),\n",
       " (7, 3990),\n",
       " (7, 25),\n",
       " (7, 26),\n",
       " (7, 3988),\n",
       " (7, 3987),\n",
       " (7, 3986),\n",
       " (7, 30),\n",
       " (7, 33),\n",
       " (7, 3981),\n",
       " (7, 3980),\n",
       " (7, 35),\n",
       " (7, 1652),\n",
       " (7, 457),\n",
       " (7, 2089),\n",
       " (7, 1273),\n",
       " (7, 2959),\n",
       " (7, 3709),\n",
       " (7, 1346),\n",
       " (7, 138),\n",
       " (7, 3380),\n",
       " (7, 2978),\n",
       " (7, 578),\n",
       " (7, 508),\n",
       " (7, 3309),\n",
       " (7, 658),\n",
       " (7, 1211),\n",
       " (7, 2977),\n",
       " (7, 2749),\n",
       " (7, 2895),\n",
       " (7, 3305),\n",
       " (7, 2260),\n",
       " (7, 379),\n",
       " (7, 63),\n",
       " (7, 2009),\n",
       " (7, 158),\n",
       " (7, 3498),\n",
       " (7, 962),\n",
       " (7, 3465),\n",
       " (7, 175),\n",
       " (7, 402),\n",
       " (8, 10),\n",
       " (8, 11),\n",
       " (8, 12),\n",
       " (8, 13),\n",
       " (8, 15),\n",
       " (8, 16),\n",
       " (8, 17),\n",
       " (8, 18),\n",
       " (8, 3998),\n",
       " (8, 3996),\n",
       " (8, 21),\n",
       " (8, 22),\n",
       " (8, 3993),\n",
       " (8, 24),\n",
       " (8, 25),\n",
       " (8, 3991),\n",
       " (8, 28),\n",
       " (8, 3987),\n",
       " (8, 31),\n",
       " (8, 3985),\n",
       " (8, 3984),\n",
       " (8, 33),\n",
       " (8, 3983),\n",
       " (8, 34),\n",
       " (8, 3982),\n",
       " (8, 35),\n",
       " (8, 36),\n",
       " (8, 3203),\n",
       " (8, 2060),\n",
       " (8, 3686),\n",
       " (8, 1408),\n",
       " (8, 2548),\n",
       " (8, 694),\n",
       " (8, 2287),\n",
       " (8, 3723),\n",
       " (8, 1973),\n",
       " (8, 2577),\n",
       " (8, 3628),\n",
       " (8, 560),\n",
       " (8, 3708),\n",
       " (8, 784),\n",
       " (8, 1244),\n",
       " (8, 2477),\n",
       " (8, 3846),\n",
       " (8, 3511),\n",
       " (8, 3914),\n",
       " (9, 10),\n",
       " (9, 12),\n",
       " (9, 19),\n",
       " (9, 20),\n",
       " (9, 21),\n",
       " (9, 22),\n",
       " (9, 3995),\n",
       " (9, 3994),\n",
       " (9, 25),\n",
       " (9, 3993),\n",
       " (9, 26),\n",
       " (9, 3992),\n",
       " (9, 27),\n",
       " (9, 28),\n",
       " (9, 29),\n",
       " (9, 3989),\n",
       " (9, 30),\n",
       " (9, 3988),\n",
       " (9, 3987),\n",
       " (9, 3986),\n",
       " (9, 33),\n",
       " (9, 3984),\n",
       " (9, 36),\n",
       " (9, 3982),\n",
       " (9, 3981),\n",
       " (9, 422),\n",
       " (9, 3142),\n",
       " (9, 803),\n",
       " (9, 2138),\n",
       " (9, 2828),\n",
       " (9, 520),\n",
       " (9, 113),\n",
       " (9, 3146),\n",
       " (9, 2170),\n",
       " (9, 2590),\n",
       " (9, 3973),\n",
       " (9, 3122),\n",
       " (9, 3683),\n",
       " (9, 975),\n",
       " (9, 2203),\n",
       " (9, 2539),\n",
       " (9, 1878),\n",
       " (9, 3718),\n",
       " (9, 973),\n",
       " (9, 1250),\n",
       " (9, 3055),\n",
       " (9, 3166),\n",
       " (9, 376),\n",
       " (9, 127),\n",
       " (9, 649),\n",
       " (9, 1779),\n",
       " (9, 62),\n",
       " (9, 641),\n",
       " (9, 1587),\n",
       " (9, 1443),\n",
       " (9, 3231),\n",
       " (9, 2382),\n",
       " (9, 3449),\n",
       " (9, 1055),\n",
       " (10, 11),\n",
       " (10, 12),\n",
       " (10, 14),\n",
       " (10, 15),\n",
       " (10, 18),\n",
       " (10, 19),\n",
       " (10, 22),\n",
       " (10, 23),\n",
       " (10, 3996),\n",
       " (10, 3995),\n",
       " (10, 26),\n",
       " (10, 3994),\n",
       " (10, 3993),\n",
       " (10, 28),\n",
       " (10, 30),\n",
       " (10, 3990),\n",
       " (10, 3989),\n",
       " (10, 34),\n",
       " (10, 3986),\n",
       " (10, 35),\n",
       " (10, 36),\n",
       " (10, 535),\n",
       " (10, 500),\n",
       " (10, 1928),\n",
       " (10, 2789),\n",
       " (10, 740),\n",
       " (10, 2818),\n",
       " (10, 3322),\n",
       " (10, 2096),\n",
       " (10, 3244),\n",
       " (10, 2942),\n",
       " (10, 1474),\n",
       " (10, 3131),\n",
       " (10, 2756),\n",
       " (10, 1142),\n",
       " (10, 1638),\n",
       " (10, 1048),\n",
       " (10, 2676),\n",
       " (10, 1655),\n",
       " (10, 3740),\n",
       " (10, 2615),\n",
       " (10, 266),\n",
       " (10, 808),\n",
       " (10, 2421),\n",
       " (10, 2027),\n",
       " (11, 15),\n",
       " (11, 16),\n",
       " (11, 19),\n",
       " (11, 20),\n",
       " (11, 21),\n",
       " (11, 23),\n",
       " (11, 3999),\n",
       " (11, 3997),\n",
       " (11, 26),\n",
       " (11, 3996),\n",
       " (11, 3995),\n",
       " (11, 28),\n",
       " (11, 3994),\n",
       " (11, 29),\n",
       " (11, 30),\n",
       " (11, 3992),\n",
       " (11, 31),\n",
       " (11, 3989),\n",
       " (11, 34),\n",
       " (11, 3988),\n",
       " (11, 35),\n",
       " (11, 3987),\n",
       " (11, 36),\n",
       " (11, 3986),\n",
       " (11, 3985),\n",
       " (11, 3483),\n",
       " (11, 644),\n",
       " (11, 188),\n",
       " (11, 2451),\n",
       " (11, 841),\n",
       " (11, 2251),\n",
       " (11, 917),\n",
       " (11, 3294),\n",
       " (11, 3680),\n",
       " (11, 3666),\n",
       " (11, 2983),\n",
       " (11, 1182),\n",
       " (11, 2453),\n",
       " (11, 3441),\n",
       " (11, 2732),\n",
       " (11, 1575),\n",
       " (11, 3828),\n",
       " (11, 1800),\n",
       " (11, 3770),\n",
       " (11, 3292),\n",
       " (11, 3350),\n",
       " (11, 761),\n",
       " (11, 208),\n",
       " (11, 2300),\n",
       " (11, 895),\n",
       " (11, 1909),\n",
       " (11, 1093),\n",
       " (11, 1595),\n",
       " (11, 846),\n",
       " (12, 15),\n",
       " (12, 17),\n",
       " (12, 18),\n",
       " (12, 20),\n",
       " (12, 25),\n",
       " (12, 3999),\n",
       " (12, 27),\n",
       " (12, 28),\n",
       " (12, 29),\n",
       " (12, 3995),\n",
       " (12, 31),\n",
       " (12, 32),\n",
       " (12, 3990),\n",
       " (12, 36),\n",
       " (12, 3988),\n",
       " (12, 3987),\n",
       " (12, 38),\n",
       " (12, 3986),\n",
       " (12, 3985),\n",
       " (12, 3984),\n",
       " (12, 689),\n",
       " (12, 118),\n",
       " (12, 3953),\n",
       " (12, 2790),\n",
       " (12, 3456),\n",
       " (12, 2087),\n",
       " (12, 488),\n",
       " (12, 205),\n",
       " (12, 276),\n",
       " (12, 1105),\n",
       " (12, 415),\n",
       " (12, 3006),\n",
       " (12, 624),\n",
       " (12, 688),\n",
       " (12, 1419),\n",
       " (12, 3187),\n",
       " (12, 3073),\n",
       " (12, 53),\n",
       " (12, 2599),\n",
       " (12, 409),\n",
       " (12, 1946),\n",
       " (12, 286),\n",
       " (12, 3813),\n",
       " (12, 3117),\n",
       " (13, 14),\n",
       " (13, 16),\n",
       " (13, 18),\n",
       " (13, 23),\n",
       " (13, 24),\n",
       " (13, 26),\n",
       " (13, 27),\n",
       " (13, 3999),\n",
       " (13, 28),\n",
       " (13, 3998),\n",
       " (13, 29),\n",
       " (13, 30),\n",
       " (13, 3995),\n",
       " (13, 3994),\n",
       " (13, 33),\n",
       " (13, 3993),\n",
       " (13, 34),\n",
       " (13, 35),\n",
       " (13, 36),\n",
       " (13, 3990),\n",
       " (13, 38),\n",
       " (13, 3987),\n",
       " (13, 816),\n",
       " (13, 2598),\n",
       " (13, 3771),\n",
       " (13, 3778),\n",
       " (13, 2207),\n",
       " (13, 84),\n",
       " (13, 3148),\n",
       " (13, 2178),\n",
       " (13, 2136),\n",
       " (13, 1054),\n",
       " (13, 1538),\n",
       " (13, 3943),\n",
       " (13, 827),\n",
       " (13, 1357),\n",
       " (13, 640),\n",
       " (13, 3963),\n",
       " (13, 2543),\n",
       " (13, 3865),\n",
       " (13, 3144),\n",
       " (13, 372),\n",
       " (13, 2904),\n",
       " (13, 3090),\n",
       " (13, 3900),\n",
       " (13, 215),\n",
       " (13, 779),\n",
       " (13, 2766),\n",
       " (14, 17),\n",
       " (14, 20),\n",
       " (14, 23),\n",
       " (14, 28),\n",
       " (14, 3999),\n",
       " (14, 3998),\n",
       " (14, 31),\n",
       " (14, 32),\n",
       " (14, 3995),\n",
       " (14, 34),\n",
       " (14, 3994),\n",
       " (14, 3992),\n",
       " (14, 37),\n",
       " (14, 39),\n",
       " (14, 3989),\n",
       " (14, 41),\n",
       " (14, 3987),\n",
       " (14, 3986),\n",
       " (14, 1799),\n",
       " (14, 227),\n",
       " (14, 2065),\n",
       " (14, 1233),\n",
       " (14, 3982),\n",
       " (14, 136),\n",
       " (14, 1447),\n",
       " (14, 2830),\n",
       " (14, 2852),\n",
       " (14, 1716),\n",
       " (14, 1339),\n",
       " (14, 298),\n",
       " (14, 2343),\n",
       " (14, 3455),\n",
       " (14, 122),\n",
       " (14, 1511),\n",
       " (14, 737),\n",
       " (14, 549),\n",
       " (14, 3077),\n",
       " (14, 2042),\n",
       " (14, 2969),\n",
       " (14, 86),\n",
       " (14, 2658),\n",
       " (14, 3468),\n",
       " (14, 182),\n",
       " (14, 1780),\n",
       " (14, 3174),\n",
       " (14, 1538),\n",
       " (14, 2068),\n",
       " (14, 2567),\n",
       " (15, 16),\n",
       " (15, 18),\n",
       " (15, 20),\n",
       " (15, 22),\n",
       " (15, 25),\n",
       " (15, 29),\n",
       " (15, 31),\n",
       " (15, 3999),\n",
       " (15, 3998),\n",
       " (15, 33),\n",
       " (15, 3997),\n",
       " (15, 3996),\n",
       " (15, 3994),\n",
       " (15, 37),\n",
       " (15, 39),\n",
       " (15, 3991),\n",
       " (15, 3990),\n",
       " (15, 3988),\n",
       " (15, 3987),\n",
       " (15, 1427),\n",
       " (15, 3500),\n",
       " (15, 61),\n",
       " (15, 133),\n",
       " (15, 3111),\n",
       " (15, 3363),\n",
       " (15, 1173),\n",
       " (15, 2521),\n",
       " (15, 3642),\n",
       " (15, 2764),\n",
       " (15, 1624),\n",
       " (15, 3440),\n",
       " (15, 628),\n",
       " (15, 3016),\n",
       " (15, 1830),\n",
       " (15, 3639),\n",
       " (15, 2848),\n",
       " (15, 3131),\n",
       " (15, 3082),\n",
       " (15, 197),\n",
       " (15, 2043),\n",
       " (15, 149),\n",
       " (15, 2589),\n",
       " (15, 215),\n",
       " (15, 2156),\n",
       " (15, 2408),\n",
       " (15, 1053),\n",
       " (15, 2344),\n",
       " (15, 557),\n",
       " (16, 17),\n",
       " (16, 18),\n",
       " (16, 20),\n",
       " (16, 21),\n",
       " (16, 24),\n",
       " (16, 25),\n",
       " (16, 26),\n",
       " (16, 28),\n",
       " (16, 29),\n",
       " (16, 34),\n",
       " (16, 3997),\n",
       " (16, 36),\n",
       " (16, 3996),\n",
       " (16, 3995),\n",
       " (16, 38),\n",
       " (16, 39),\n",
       " (16, 3993),\n",
       " (16, 40),\n",
       " (16, 3990),\n",
       " (16, 3989),\n",
       " (16, 3988),\n",
       " (16, 1995),\n",
       " (16, 3985),\n",
       " (16, 229),\n",
       " (16, 370),\n",
       " (16, 1224),\n",
       " (16, 374),\n",
       " (16, 2404),\n",
       " (16, 2545),\n",
       " (16, 1353),\n",
       " (16, 1757),\n",
       " (16, 1185),\n",
       " (16, 1303),\n",
       " (16, 2873),\n",
       " (16, 1706),\n",
       " (16, 893),\n",
       " (16, 3789),\n",
       " (16, 3893),\n",
       " (16, 2317),\n",
       " (16, 3370),\n",
       " (16, 3257),\n",
       " (16, 2403),\n",
       " (16, 241),\n",
       " (16, 2379),\n",
       " (16, 95),\n",
       " (16, 1473),\n",
       " (16, 1844),\n",
       " (17, 21),\n",
       " (17, 25),\n",
       " (17, 27),\n",
       " (17, 28),\n",
       " (17, 31),\n",
       " (17, 32),\n",
       " (17, 34),\n",
       " (17, 3998),\n",
       " (17, 37),\n",
       " (17, 3996),\n",
       " (17, 39),\n",
       " (17, 3995),\n",
       " (17, 40),\n",
       " (17, 3994),\n",
       " (17, 3993),\n",
       " (17, 42),\n",
       " (17, 3992),\n",
       " (17, 3991),\n",
       " (17, 44),\n",
       " (17, 3990),\n",
       " (17, 45),\n",
       " (17, 3989),\n",
       " (17, 2246),\n",
       " (17, 1920),\n",
       " (17, 3684),\n",
       " (17, 2265),\n",
       " (17, 2231),\n",
       " (17, 1282),\n",
       " (17, 3365),\n",
       " (17, 3679),\n",
       " (17, 1930),\n",
       " (17, 2976),\n",
       " (17, 3826),\n",
       " (17, 374),\n",
       " (17, 2398),\n",
       " (17, 3726),\n",
       " (17, 214),\n",
       " (17, 3506),\n",
       " (17, 3659),\n",
       " (17, 3323),\n",
       " (17, 3636),\n",
       " (17, 1972),\n",
       " (17, 2765),\n",
       " (17, 81),\n",
       " (17, 2972),\n",
       " (17, 1154),\n",
       " (17, 3537),\n",
       " (17, 1403),\n",
       " (17, 2660),\n",
       " (17, 3410),\n",
       " (17, 1016),\n",
       " (17, 2110),\n",
       " (18, 23),\n",
       " (18, 25),\n",
       " (18, 26),\n",
       " (18, 28),\n",
       " (18, 31),\n",
       " (18, 32),\n",
       " (18, 33),\n",
       " (18, 34),\n",
       " (18, 35),\n",
       " (18, 36),\n",
       " (18, 37),\n",
       " (18, 38),\n",
       " (18, 39),\n",
       " (18, 40),\n",
       " (18, 41),\n",
       " (18, 3995),\n",
       " (18, 3993),\n",
       " (18, 44),\n",
       " (18, 3991),\n",
       " (18, 46),\n",
       " (18, 3512),\n",
       " (18, 1076),\n",
       " (18, 1262),\n",
       " (18, 1630),\n",
       " (18, 3628),\n",
       " (18, 1011),\n",
       " (18, 424),\n",
       " (18, 1571),\n",
       " (18, 1858),\n",
       " (18, 808),\n",
       " (18, 986),\n",
       " (18, 2524),\n",
       " (18, 1343),\n",
       " (18, 458),\n",
       " (18, 2284),\n",
       " (18, 2347),\n",
       " (18, 2441),\n",
       " (18, 981),\n",
       " (18, 2299),\n",
       " (18, 208),\n",
       " (18, 1981),\n",
       " (19, 25),\n",
       " (19, 26),\n",
       " (19, 27),\n",
       " (19, 31),\n",
       " (19, 33),\n",
       " (19, 34),\n",
       " (19, 36),\n",
       " (19, 37),\n",
       " (19, 38),\n",
       " (19, 39),\n",
       " (19, 40),\n",
       " (19, 42),\n",
       " (19, 3996),\n",
       " (19, 43),\n",
       " (19, 3995),\n",
       " (19, 3992),\n",
       " (19, 47),\n",
       " (19, 3991),\n",
       " (19, 658),\n",
       " (19, 2074),\n",
       " (19, 1390),\n",
       " (19, 3860),\n",
       " (19, 2552),\n",
       " (19, 3087),\n",
       " (19, 897),\n",
       " (19, 2736),\n",
       " (19, 554),\n",
       " (19, 3187),\n",
       " (19, 83),\n",
       " (19, 1924),\n",
       " (19, 1984),\n",
       " (19, 2790),\n",
       " (19, 593),\n",
       " (19, 2011),\n",
       " (19, 2482),\n",
       " ...]"
      ]
     },
     "execution_count": 29,
     "metadata": {},
     "output_type": "execute_result"
    }
   ],
   "source": [
    "g_ws.edges()"
   ]
  },
  {
   "cell_type": "code",
   "execution_count": 30,
   "metadata": {},
   "outputs": [],
   "source": [
    "import numpy as np"
   ]
  },
  {
   "cell_type": "markdown",
   "metadata": {},
   "source": [
    "    evaluate the influence of nodes based on their degree.\n",
    "    cluster?\n",
    "    then traverse beging with these nodes\n",
    "    the heapq can be used to sort these nodes based on the influence"
   ]
  },
  {
   "cell_type": "code",
   "execution_count": 267,
   "metadata": {},
   "outputs": [],
   "source": [
    "# States\n",
    "HEALTH = 0\n",
    "TRANSMISSION = 1\n",
    "IMMUNE = 2 # immune & inactive\n",
    "\n",
    "# parameter\n",
    "p1 = 0.08 # health to transmission\n",
    "p2 = 0.55 # immune to transmission\n",
    "a = 0.45 # user growth rate per month\n",
    "b = 0.3 # inactive rate per month\n",
    "\n",
    "class social_network():\n",
    "    def __init__(self,  alpha=0.1,beta=0.3, n = 4000,name = \"ws\",):\n",
    "        if name == \"ws\":\n",
    "            self.graph = nx.watts_strogatz_graph(n, k = 57, p=0.5)\n",
    "        elif name == \"ba\":\n",
    "            self.graph = nx.barabasi_albert_graph(n, m = 6)\n",
    "        \n",
    "        \n",
    "        init_dist=np.random.choice([TRANSMISSION,IMMUNE,HEALTH],\n",
    "                         size = n,p=(alpha,beta,1-alpha-beta))\n",
    "        \n",
    "        # list of nodes group by status\n",
    "        self.hea_list = np.where(init_dist==HEALTH)[0].tolist()\n",
    "        self.trans_list = np.where(init_dist==TRANSMISSION)[0].tolist()\n",
    "        self.im_list = np.where(init_dist==IMMUNE)[0].tolist()\n",
    "        \n",
    "        for i in range(0,n):\n",
    "            self.graph.node[i]['status'] = init_dist[i]\n"
   ]
  },
  {
   "cell_type": "code",
   "execution_count": 572,
   "metadata": {},
   "outputs": [
    {
     "data": {
      "text/plain": [
       "4000"
      ]
     },
     "execution_count": 572,
     "metadata": {},
     "output_type": "execute_result"
    }
   ],
   "source": [
    "G=social_network(name =\"ba\")\n",
    "g = G.graph\n",
    "trans_list = G.trans_list\n",
    "hea_list = G.hea_list\n",
    "im_list = G.im_list\n",
    "nodes = g.nodes(data = True)\n",
    "# hea_list\n",
    "len(im_list)+len(hea_list)+len(trans_list)"
   ]
  },
  {
   "cell_type": "code",
   "execution_count": 573,
   "metadata": {},
   "outputs": [],
   "source": [
    "import copy\n",
    "\n",
    "# nt = trans_list[22]\n",
    "# nt,g.node[nt]['status']\n",
    "\n",
    "p1 = 0.08\n",
    "\n",
    "a = copy.deepcopy(nei_sta)"
   ]
  },
  {
   "cell_type": "code",
   "execution_count": null,
   "metadata": {},
   "outputs": [],
   "source": [
    "origin_sta = np.array([g.node[nei]['status'] \n",
    "                        for nei in range(0,4000)])\n",
    "\n",
    "origin_health = set(np.where(origin_sta == HEALTH)[0])\n",
    "change_to_unhealth = set([])\n",
    "\n",
    "origin_imm = set(np.where(origin_sta == IMMUNE)[0])\n",
    "change_to_imm = set([])\n",
    "\n",
    "origin_heal_list = set(copy.deepcopy(hea_list))\n",
    "origin_im_list = set(copy.deepcopy(im_list))\n",
    "origin_trans_list = set(copy.deepcopy(trans_list))\n",
    "\n",
    "spreaded_all = set([])\n",
    "leave_trans = set([])\n",
    "\n",
    "len(origin_im_list)+len(origin_heal_list)+len(origin_trans_list)"
   ]
  },
  {
   "cell_type": "code",
   "execution_count": 575,
   "metadata": {},
   "outputs": [],
   "source": [
    "\n",
    "for nt in trans_list:\n",
    "\n",
    "    nei_list = np.array(g.neighbors(nt))\n",
    "    nei_sta = np.array([g.node[nei]['status'] \n",
    "                        for nei in nei_list])\n",
    "    # a = copy.deepcopy(nei_sta)\n",
    "\n",
    "    heal_nei = nei_list[np.where(nei_sta == HEALTH)[0]]\n",
    "    spreaded_nei = heal_nei[np.where(np.random.uniform(0,1,(heal_nei.shape[0],)) \n",
    "                              < p1)[0]]\n",
    "\n",
    "    if spreaded_nei.size!=0:    # if spread to nei\n",
    "        trans_list.remove(nt)\n",
    "        im_list.append(nt)\n",
    "        leave_trans.add(nt)\n",
    "        #\n",
    "        change_to_unhealth.update(spreaded_nei)\n",
    "        change_to_imm.add(nt)\n",
    "        spreaded_all.update(spreaded_nei)\n",
    "        #\n",
    "        g.node[nt]['status'] = IMMUNE\n",
    "        \n",
    "        \n",
    "        \n",
    "        for sn in spreaded_nei:\n",
    "            hea_list.remove(sn)\n",
    "            trans_list.append(sn)\n",
    "            \n",
    "            \n",
    "            g.node[sn]['status'] = TRANSMISSION\n",
    "    elif np.random.uniform(0,1) < p2:\n",
    "        im_list.append(nt)\n",
    "        g.node[nt]['status'] = IMMUNE\n",
    "        #\n",
    "        change_to_imm.add(nt)\n",
    "        leave_trans.add(nt)\n",
    "        #"
   ]
  },
  {
   "cell_type": "code",
   "execution_count": 577,
   "metadata": {},
   "outputs": [
    {
     "data": {
      "text/plain": [
       "389"
      ]
     },
     "execution_count": 577,
     "metadata": {},
     "output_type": "execute_result"
    }
   ],
   "source": [
    "len(leave_trans)"
   ]
  },
  {
   "cell_type": "code",
   "execution_count": 553,
   "metadata": {},
   "outputs": [],
   "source": [
    "after = np.array([g.node[nei]['status'] \n",
    "                        for nei in range(0,4000)])\n",
    "after_health = set(np.where(after == HEALTH)[0])\n",
    "after_imm = set(np.where(after == IMMUNE)[0])\n",
    "after_tran_list = set(trans_list)\n",
    "after_heal_list = set(hea_list)\n",
    "after_im_list = set(im_list)"
   ]
  },
  {
   "cell_type": "code",
   "execution_count": 554,
   "metadata": {},
   "outputs": [
    {
     "data": {
      "text/plain": [
       "True"
      ]
     },
     "execution_count": 554,
     "metadata": {},
     "output_type": "execute_result"
    }
   ],
   "source": [
    "# from health to transmission\n",
    "origin_heal_list-after_heal_list==origin_health - after_health"
   ]
  },
  {
   "cell_type": "markdown",
   "metadata": {},
   "source": [
    "#### 原先trans的量 +  新增trans的量- 减少trans的量 = 现有trans的量"
   ]
  },
  {
   "cell_type": "code",
   "execution_count": 579,
   "metadata": {},
   "outputs": [
    {
     "data": {
      "text/plain": [
       "352"
      ]
     },
     "execution_count": 579,
     "metadata": {},
     "output_type": "execute_result"
    }
   ],
   "source": [
    "len(origin_trans_list) + len(spreaded_all) - len(leave_trans)"
   ]
  },
  {
   "cell_type": "code",
   "execution_count": 581,
   "metadata": {},
   "outputs": [
    {
     "data": {
      "text/plain": [
       "538"
      ]
     },
     "execution_count": 581,
     "metadata": {},
     "output_type": "execute_result"
    }
   ],
   "source": [
    "len(after_tran_list)"
   ]
  },
  {
   "cell_type": "code",
   "execution_count": 580,
   "metadata": {},
   "outputs": [
    {
     "data": {
      "text/plain": [
       "(423, 318, 389)"
      ]
     },
     "execution_count": 580,
     "metadata": {},
     "output_type": "execute_result"
    }
   ],
   "source": [
    "len(origin_trans_list),len(spreaded_all), len(leave_trans)"
   ]
  },
  {
   "cell_type": "code",
   "execution_count": 555,
   "metadata": {},
   "outputs": [
    {
     "data": {
      "text/plain": [
       "True"
      ]
     },
     "execution_count": 555,
     "metadata": {},
     "output_type": "execute_result"
    }
   ],
   "source": [
    "# from transmission to immune\n",
    "after_im_list-origin_im_list==after_imm-origin_imm"
   ]
  },
  {
   "cell_type": "code",
   "execution_count": 556,
   "metadata": {},
   "outputs": [
    {
     "data": {
      "text/plain": [
       "4000"
      ]
     },
     "execution_count": 556,
     "metadata": {},
     "output_type": "execute_result"
    }
   ],
   "source": [
    "len(origin_im_list)+len(origin_heal_list)+len(origin_trans_list)"
   ]
  },
  {
   "cell_type": "code",
   "execution_count": 557,
   "metadata": {},
   "outputs": [
    {
     "data": {
      "text/plain": [
       "4197"
      ]
     },
     "execution_count": 557,
     "metadata": {},
     "output_type": "execute_result"
    }
   ],
   "source": [
    "len(after_im_list)+len(after_heal_list)+len(after_tran_list)"
   ]
  },
  {
   "cell_type": "code",
   "execution_count": 459,
   "metadata": {},
   "outputs": [
    {
     "data": {
      "text/plain": [
       "True"
      ]
     },
     "execution_count": 459,
     "metadata": {},
     "output_type": "execute_result"
    }
   ],
   "source": [
    "change_to_imm == (after_imm-origin_imm)"
   ]
  },
  {
   "cell_type": "code",
   "execution_count": 458,
   "metadata": {},
   "outputs": [
    {
     "data": {
      "text/plain": [
       "True"
      ]
     },
     "execution_count": 458,
     "metadata": {},
     "output_type": "execute_result"
    }
   ],
   "source": [
    "# test if h->t correctly changed\n",
    "change_to_unhealth==(origin_health - after_health)\n",
    "\n",
    "# change_to_unhealth,change_to_imm"
   ]
  },
  {
   "cell_type": "code",
   "execution_count": 419,
   "metadata": {},
   "outputs": [
    {
     "data": {
      "text/plain": [
       "-731"
      ]
     },
     "execution_count": 419,
     "metadata": {},
     "output_type": "execute_result"
    }
   ],
   "source": [
    "sum(origin_sta - after)"
   ]
  },
  {
   "cell_type": "code",
   "execution_count": 382,
   "metadata": {},
   "outputs": [],
   "source": [
    "nei_list = np.array(g.neighbors(nt))\n",
    "nei_sta = np.array([g.node[nei]['status'] \n",
    "                    for nei in nei_list])\n",
    "# a = copy.deepcopy(nei_sta)\n",
    "\n",
    "heal_nei = nei_list[np.where(nei_sta == HEALTH)[0]]\n",
    "spreaded_nei = heal_nei[np.where(np.random.uniform(0,1,(heal_nei.shape[0],)) \n",
    "                          < p1)[0]]\n",
    "\n",
    "if spreaded_nei.size!=0:    # if spread to nei\n",
    "    g.node[nt]['status'] = IMMUNE\n",
    "    for sn in spreaded_nei:\n",
    "        g.node[sn]['status'] = TRANSMISSION\n",
    "elif np.random.uniform(0,1) < p2:\n",
    "    g.node[nt]['status'] = IMMUNE\n",
    "\n",
    "# after = np.array([g.node[nei]['status'] \n",
    "#                     for nei in nei_list])"
   ]
  },
  {
   "cell_type": "code",
   "execution_count": 401,
   "metadata": {},
   "outputs": [
    {
     "data": {
      "text/plain": [
       "(241, 2, False)"
      ]
     },
     "execution_count": 401,
     "metadata": {},
     "output_type": "execute_result"
    }
   ],
   "source": [
    "nt,g.node[nt]['status'],(a==after).all()"
   ]
  },
  {
   "cell_type": "code",
   "execution_count": null,
   "metadata": {},
   "outputs": [],
   "source": []
  },
  {
   "cell_type": "code",
   "execution_count": null,
   "metadata": {},
   "outputs": [],
   "source": []
  },
  {
   "cell_type": "code",
   "execution_count": null,
   "metadata": {},
   "outputs": [],
   "source": []
  },
  {
   "cell_type": "code",
   "execution_count": null,
   "metadata": {},
   "outputs": [],
   "source": [
    "nx.draw_networkx(g,with_labels=False,node_size=3)"
   ]
  },
  {
   "cell_type": "code",
   "execution_count": 248,
   "metadata": {},
   "outputs": [
    {
     "data": {
      "text/plain": [
       "[154, 811, 3861, 921, 3002, 603]"
      ]
     },
     "execution_count": 248,
     "metadata": {},
     "output_type": "execute_result"
    }
   ],
   "source": [
    "nei_list"
   ]
  },
  {
   "cell_type": "code",
   "execution_count": 252,
   "metadata": {},
   "outputs": [],
   "source": [
    "nei_stat = np.array([g.node[nei]['status'] \n",
    "                     for nei in nei_list])"
   ]
  },
  {
   "cell_type": "code",
   "execution_count": 278,
   "metadata": {},
   "outputs": [
    {
     "name": "stdout",
     "output_type": "stream",
     "text": [
      "154\n",
      "811\n",
      "3861\n",
      "603\n"
     ]
    }
   ],
   "source": [
    "for sn in spreaded_nei:\n",
    "    print(sn)"
   ]
  },
  {
   "cell_type": "code",
   "execution_count": 277,
   "metadata": {},
   "outputs": [
    {
     "data": {
      "text/plain": [
       "array([ 154,  811, 3861,  603])"
      ]
     },
     "execution_count": 277,
     "metadata": {},
     "output_type": "execute_result"
    }
   ],
   "source": [
    "spreaded_nei"
   ]
  },
  {
   "cell_type": "code",
   "execution_count": 272,
   "metadata": {},
   "outputs": [],
   "source": [
    "# if spreaded_nei.size==0 and np.random.uniform(0,1) < p2:\n",
    "#     g.node[nei]['status'] = IMMUNE\n",
    "if spreaded_nei.size!=0:\n",
    "    g.node[nei]['status'] = IMMUNE\n",
    "elif np.random.uniform(0,1) < p2:\n",
    "    g.node[nei]['status'] = IMMUNE"
   ]
  },
  {
   "cell_type": "code",
   "execution_count": 259,
   "metadata": {},
   "outputs": [
    {
     "data": {
      "text/plain": [
       "array([ 154,  811, 3861,  603])"
      ]
     },
     "execution_count": 259,
     "metadata": {},
     "output_type": "execute_result"
    }
   ],
   "source": [
    "heal_nei"
   ]
  },
  {
   "cell_type": "code",
   "execution_count": 247,
   "metadata": {
    "scrolled": true
   },
   "outputs": [],
   "source": [
    "for nei in nei_list:\n",
    "    nei_sta = g.node[nei]['status']\n",
    "    \n",
    "    \n",
    "    if nei_sta == HEALTH:\n",
    "#         spread = np.where(np.random.uniform(0,1,(len(nei_list),)) \n",
    "#                           < p1)[0].tolist()\n",
    "        if np.random.uniform(0,1) < p1\n",
    "        for sn in spread:\n",
    "            g.node[sn]['status'] = TRANSMISSION\n",
    "    \n",
    "    \n",
    "    \n",
    "#     HEALTH = 0\n",
    "# TRANSMISSION = 1\n",
    "# IMMUNE = 2"
   ]
  },
  {
   "cell_type": "code",
   "execution_count": 245,
   "metadata": {},
   "outputs": [],
   "source": [
    "spread = np.where(np.random.uniform(0,1,(len(nei_list),)) \n",
    "                          < p1)[0].tolist()"
   ]
  },
  {
   "cell_type": "code",
   "execution_count": 237,
   "metadata": {},
   "outputs": [],
   "source": [
    "p1=0.6"
   ]
  },
  {
   "cell_type": "code",
   "execution_count": 233,
   "metadata": {},
   "outputs": [
    {
     "data": {
      "text/plain": [
       "array([0.81037811, 0.07353049, 0.26127005, 0.34094342, 0.65113533,\n",
       "       0.33505975])"
      ]
     },
     "execution_count": 233,
     "metadata": {},
     "output_type": "execute_result"
    }
   ],
   "source": [
    "np.random.uniform(0,1,(len(nei_list),))"
   ]
  },
  {
   "cell_type": "code",
   "execution_count": 243,
   "metadata": {},
   "outputs": [
    {
     "data": {
      "text/plain": [
       "[0, 5]"
      ]
     },
     "execution_count": 243,
     "metadata": {},
     "output_type": "execute_result"
    }
   ],
   "source": [
    "np.where(np.random.uniform(0,1,(len(nei_list),)) < p1)[0].tolist()"
   ]
  },
  {
   "cell_type": "code",
   "execution_count": 226,
   "metadata": {},
   "outputs": [
    {
     "ename": "SyntaxError",
     "evalue": "invalid syntax (<ipython-input-226-b9c796bfad56>, line 2)",
     "output_type": "error",
     "traceback": [
      "\u001b[0;36m  File \u001b[0;32m\"<ipython-input-226-b9c796bfad56>\"\u001b[0;36m, line \u001b[0;32m2\u001b[0m\n\u001b[0;31m    if\u001b[0m\n\u001b[0m       ^\u001b[0m\n\u001b[0;31mSyntaxError\u001b[0m\u001b[0;31m:\u001b[0m invalid syntax\n"
     ]
    }
   ],
   "source": [
    "def step(G):\n",
    "    if "
   ]
  },
  {
   "cell_type": "code",
   "execution_count": 178,
   "metadata": {},
   "outputs": [
    {
     "data": {
      "text/plain": [
       "[(0, {'status': 0}),\n",
       " (1, {'status': 0}),\n",
       " (2, {'status': 0}),\n",
       " (3, {'status': 0}),\n",
       " (4, {'status': 2})]"
      ]
     },
     "execution_count": 178,
     "metadata": {},
     "output_type": "execute_result"
    }
   ],
   "source": [
    "[(n,d) for n,d in G.graph.nodes_iter(data=True)][:5]"
   ]
  },
  {
   "cell_type": "code",
   "execution_count": null,
   "metadata": {},
   "outputs": [],
   "source": [
    "class User():\n",
    "    def __init__(self,user_id,init_stat=HEALTH):\n",
    "        self.sta = init_stat\n",
    "        self.id = user_id\n",
    "        \n",
    "        \n",
    "        \n",
    "    \n",
    "        \n",
    "    def update(self,self.sta):\n",
    "        if self.sta == TRANSMISSION:\n",
    "            \n"
   ]
  },
  {
   "cell_type": "code",
   "execution_count": 76,
   "metadata": {},
   "outputs": [],
   "source": []
  },
  {
   "cell_type": "markdown",
   "metadata": {},
   "source": [
    "# health\n",
    "nei里有无trans\n",
    "\n",
    "# transmission\n"
   ]
  },
  {
   "cell_type": "code",
   "execution_count": 78,
   "metadata": {},
   "outputs": [],
   "source": [
    "def count(G):\n",
    "    return len(np.where(G)[0])\n",
    "\n",
    "def create_world(n,alpha,beta):\n",
    "    G = np.random. choice([TRANSMISSION,IMMUNE,HEALTH],\n",
    "                         size = (n,n),\n",
    "                         p=(alpha,beta,1-alpha-beta))\n",
    "    return G\n",
    "\n",
    "def find(G):\n",
    "    return {(i,j) for i,j in zip(*np.where(G))}"
   ]
  },
  {
   "cell_type": "code",
   "execution_count": null,
   "metadata": {},
   "outputs": [],
   "source": [
    "def step(G,p1,p2):# a,b\n",
    "    "
   ]
  },
  {
   "cell_type": "code",
   "execution_count": 79,
   "metadata": {},
   "outputs": [
    {
     "data": {
      "text/plain": [
       "array([[2, 0, 1, 0, 0, 0, 2, 0, 0, 2],\n",
       "       [0, 1, 2, 0, 0, 0, 0, 0, 0, 0],\n",
       "       [0, 0, 0, 0, 0, 2, 0, 0, 0, 0],\n",
       "       [0, 0, 0, 0, 1, 0, 0, 0, 0, 0],\n",
       "       [0, 0, 0, 0, 0, 0, 0, 1, 1, 0],\n",
       "       [0, 0, 0, 0, 0, 0, 0, 1, 1, 0],\n",
       "       [0, 0, 0, 0, 2, 0, 0, 0, 0, 0],\n",
       "       [0, 0, 0, 0, 0, 1, 0, 0, 0, 1],\n",
       "       [0, 0, 0, 0, 0, 0, 1, 0, 0, 0],\n",
       "       [2, 0, 0, 0, 0, 0, 0, 0, 0, 0]])"
      ]
     },
     "execution_count": 79,
     "metadata": {},
     "output_type": "execute_result"
    }
   ],
   "source": [
    "G = create_world(10,0.1,0.1)\n",
    "G"
   ]
  },
  {
   "cell_type": "code",
   "execution_count": 70,
   "metadata": {},
   "outputs": [
    {
     "data": {
      "text/plain": [
       "(array([2]), array([2]))"
      ]
     },
     "execution_count": 70,
     "metadata": {},
     "output_type": "execute_result"
    }
   ],
   "source": [
    "np.where(G)"
   ]
  },
  {
   "cell_type": "code",
   "execution_count": null,
   "metadata": {},
   "outputs": [],
   "source": []
  }
 ],
 "metadata": {
  "kernelspec": {
   "display_name": "Python 3",
   "language": "python",
   "name": "python3"
  },
  "language_info": {
   "codemirror_mode": {
    "name": "ipython",
    "version": 3
   },
   "file_extension": ".py",
   "mimetype": "text/x-python",
   "name": "python",
   "nbconvert_exporter": "python",
   "pygments_lexer": "ipython3",
   "version": "3.6.5"
  }
 },
 "nbformat": 4,
 "nbformat_minor": 2
}
